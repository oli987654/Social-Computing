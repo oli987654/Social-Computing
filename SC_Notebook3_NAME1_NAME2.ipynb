{
 "cells": [
  {
   "cell_type": "markdown",
   "metadata": {},
   "source": [
    "## Social Computing: Notebook 3"
   ]
  },
  {
   "cell_type": "markdown",
   "metadata": {},
   "source": [
    "Please include your names below and edit the name of the file to include the last names of the people answering"
   ]
  },
  {
   "cell_type": "code",
   "execution_count": 2,
   "metadata": {},
   "outputs": [],
   "source": [
    "# Students: Oliver Hliddal, Julian Bolfing"
   ]
  },
  {
   "cell_type": "markdown",
   "metadata": {},
   "source": [
    "# Part 1: Feature extraction (30 points total)"
   ]
  },
  {
   "cell_type": "markdown",
   "metadata": {},
   "source": [
    "For this exercise you are provided with a dataset of hashed email addresses. This dataset can be found in hashedEmailAddressesGitHubCommits.csv, at https://www.dropbox.com/s/kevcp917ok9qyn0/hashedEmailAddressesGitHubCommits.csv.zip?dl=0. Please make sure you can access this file."
   ]
  },
  {
   "cell_type": "markdown",
   "metadata": {},
   "source": [
    "## Identifying the country of residence\n",
    "\n",
    "**Exercise 1.1 (12 points)**\n",
    "\n",
    "Based on the email address, we can infer different properties about the user. One example is their country of residence. For example, an email like “1315ae6229444367968a943a219f38def9a8112d@vpn-251-169.epfl.ch” will probably correspond to a user located in Switzerland, while an email of the form “59bd0a3ff43b32849b319e645d4798d8a5d1e889@philipphauer.de” will probably correspond to a user located in Germany. \n",
    "\n",
    "Write a script that classifies the email addresses from the file above, based on the country of residence."
   ]
  },
  {
   "cell_type": "code",
   "execution_count": 1,
   "metadata": {},
   "outputs": [],
   "source": [
    "import csv\n",
    "\n",
    "path = r\"C:\\Users\\Julian\\Desktop\\Social Computing\\hashedEmailAddressesGitHubCommits.csv\"\n",
    "\n",
    "country_codes = {\".jp\": \"Japan\", \".ch\": \"Switzerland\", \".io\": \"British Indian Ocean Territory\",\n",
    "                  \".nl\": \"Netherlands\", \".in\": \"India\", \".de\": \"Germany\", \".ru\": \"Russia\",\n",
    "                  \".cn\": \"China\", \".fr\": \"France\", \".be\": \"Belgium\", \".tr\": \"Turkey\", \".uk\": \"United Kingdom\",\n",
    "                  \".tv\": \"Tuvalu\", \".at\": \"Austria\", \".mx\": \"Mexico\", \".pt\": \"Portugal\", \".au\": \"Australia\",\n",
    "                  \".ca\": \"Canada\", \".lt\": \"Lithuania\", \".cz\": \"Czech Republic\", \".ai\": \"Anguilla\",\n",
    "                  \".bg\": \"Bulgaria\", \".me\": \"Montenegro\", \".es\": \"Spain\", \".pl\": \"Poland\", \".se\": \"Sweden\",\n",
    "                  \".br\": \"Brazil\", \".za\": \"South Africa\", \".no\": \"Norway\", \".it\": \"Italy\"}\n",
    "\n",
    "# I'll stop here I guess... There's many countries...\n",
    "\n",
    "\n",
    "def addressEvaluation(address):\n",
    "        '''Evaluating the location of an address'''\n",
    "        if (address[-3] == \".\"):\n",
    "                if (address[-3:] in country_codes):\n",
    "                        return country_codes.get(address[-3:])\n",
    "                else:\n",
    "                        print(\"Unable to evaluate this address.\")\n",
    "                        return 0\n",
    "        else:\n",
    "                print(\"Unable to evaluate this address; Address seems invalid\")\n",
    "                return 0\n",
    "\n",
    "\n",
    "\n",
    "####################### Classification of all the addresses form the list #########################\n",
    "country_dict = {}\n",
    "\n",
    "\n",
    "with open(path) as csvfile:\n",
    "        csv_reader = csv.reader(csvfile, delimiter=',')\n",
    "        for row in csv_reader:\n",
    "                if (row[0][-3] == \".\"):\n",
    "                        if (row[0][-3:] in country_dict):\n",
    "                                country_dict[row[0][-3:]].append(row)\n",
    "                        else:\n",
    "                                country_dict[row[0][-3:]] = []\n",
    "                                country_dict[row[0][-3:]].append(row)\n",
    "#for entry in two_digit_dict:\n",
    "#        print(entry)\n",
    "#        for item in two_digit_dict.get(entry):\n",
    "#                print(\"\\t\" + item[0])"
   ]
  },
  {
   "cell_type": "markdown",
   "metadata": {},
   "source": [
    "**Exercise 1.2 (6 points)**\n",
    "\n",
    "Select 100 email addresses from the list. Each member of the team should manually evaluate them (separately)."
   ]
  },
  {
   "cell_type": "code",
   "execution_count": 2,
   "metadata": {},
   "outputs": [],
   "source": [
    "selected_adr = []\n",
    "\n",
    "# We selcted the first 100 addresses of the file\n",
    "with open(path) as csvfile:\n",
    "        csv_reader = csv.reader(csvfile, delimiter=',')\n",
    "        count = 0\n",
    "        for row in csv_reader:\n",
    "                if (count<100):\n",
    "                        selected_adr.append(row[0])\n",
    "                        #print(row[0])\n",
    "                        count = count+1\n",
    "                else:\n",
    "                        break\n",
    "\n"
   ]
  },
  {
   "cell_type": "code",
   "execution_count": 5,
   "metadata": {},
   "outputs": [],
   "source": [
    "# Put the name of the first pair-member doing the evaluation below\n",
    "# NAME: Julian Bolfing\n",
    "\n",
    "#@georgemcintosh.com        .com = universal, georgemcintosh mabye somethong with apple\n",
    "#@gmail.com                 universal google mail address\n",
    "#@kitconcept.com            domain of a company called kitconcept maybe\n",
    "#@cpc.ait.kyushu-u.ac.jp    japanese domain\n",
    "#@users.noreply.github.com  github address\n",
    "#@users.noreply.github.com  \"\n",
    "#@users.noreply.github.com  \"\n",
    "#@users.noreply.github.com  \"\n",
    "#@nuco.io                   no idea\n",
    "#@gmail.com                 \"\n",
    "#@gmail.com                 \"\n",
    "#@naver.com                 no idea\n",
    "#@icometrix.com             universal company address maybe\n",
    "#@users.noreply.github.com  \"\n",
    "#@users.noreply.github.com  \"\n",
    "#@vpn-251-169.epfl.ch       Swiss vpn-domain address\n",
    "#@gmail.com                 \"\n",
    "#@evalf.nl                  mail address from the netherlands\n",
    "#@users.noreply.github.com  \"\n",
    "#@users.noreply.github.com  \"\n",
    "#@gmail.com                 \"\n",
    "#@ves.ac.in                 Something in india\n",
    "#@ndus.edu                  something educational\n",
    "#@users.noreply.github.com  \"\n",
    "#@gmail.com                 \"\n",
    "\n",
    "#@users.noreply.github.com  \"\n",
    "#@gmail.com                 \"\n",
    "#@amazon.com                Amazon address\n",
    "#@gmail.com                 \"\n",
    "#@users.noreply.github.com  \"\n",
    "#@enzy.org                  address of an international organization maybe\n",
    "#@dg10a.com                 no idea\n",
    "#@gmail.com                 \"\n",
    "#@users.noreply.github.com  \"\n",
    "#@gmail.com                 \"\n",
    "#@DESKTOP-F7F9K18           domain of a laptop maybe\n",
    "#@apple.com                 apple domain\n",
    "#@users.noreply.github.com  \"\n",
    "#@live.com                  universal email address\n",
    "#@yandex.ru                 russian email address\n",
    "#@users.noreply.github.com  \"\n",
    "#@hotmail.nl                email address from the Netherlands\n",
    "#@gmail.com                 \"\n",
    "#@wq-dmy.cn                 maybe something canadian\n",
    "#@users.noreply.github.com  \"\n",
    "#@hotmail.com               universal email address\n",
    "#@qq.com                    no idea\n",
    "#@gmail.com                 \"\n",
    "#@braun-development.de      german company domain\n",
    "#@users.noreply.github.com  \"\n",
    "\n",
    "#@hotmail.fr                french mail address\n",
    "#@users.noreply.github.com  \"\n",
    "#@gmail.com                 \"\n",
    "#@ugent.be                  email address from Belgium\n",
    "#@Israels-MacBook-Pro.local macbook domain\n",
    "#@gmail.com                 \"\n",
    "#@gazi.edu.tr               turkish mail address from an educational institution\n",
    "#@gmail.com                 \"\n",
    "#@users.noreply.github.com  \"\n",
    "#@always-online.co.uk       domain from the United Kingdom\n",
    "#@mst.edu                   something educational\n",
    "#@sensetime.com             no idea\n",
    "#@163.com                   no idea\n",
    "#@users.noreply.github.com  \"\n",
    "#@gamil.com                 universal mail address\n",
    "#@163.com                   \"\n",
    "#@gmail.com                 \"\n",
    "#@gmail.com                 \"\n",
    "#@gmail.com                 \"\n",
    "#@gmail.com                 \"\n",
    "#@users.noreply.github.com  \"\n",
    "#@mail.ru                   Russian mail address\n",
    "#@gmail.com                 \"\n",
    "#@users.noreply.github.com  \"\n",
    "#@gmail.com                 \"\n",
    "\n",
    "#@qq.com                    no idea\n",
    "#@gmail.com                 \"\n",
    "#@gmail.com                 \"\n",
    "#@uab.edu                   something educational\n",
    "#@users.noreply.github.com  \"\n",
    "#@gmail.com                 \"\n",
    "#@gmail.com                 \"\n",
    "#@ymail.com                 universal mail address\n",
    "#@gmail.com                 \"\n",
    "#@live.com                  universal mail address\n",
    "#@users.noreply.github.com  \"\n",
    "#@brianshumate.com          \"\n",
    "#@163.com                   \"\n",
    "#@philipphauer.de           German domain of an entrepreneur maybe\n",
    "#@gmail.com                 \"\n",
    "#@users.noreply.github.com  \"\n",
    "#@gmail.com                 \"\n",
    "#@uw.edu                    something educational\n",
    "#@gmail.com                 \"\n",
    "#@gmail.com                 \"\n",
    "#@gmail.com                 \"\n",
    "#@live.com                  \"\n",
    "#@users.noreply.github.com  \"\n",
    "#@gmail.com                 \"\n",
    "#@gmail.com                 \""
   ]
  },
  {
   "cell_type": "code",
   "execution_count": 6,
   "metadata": {},
   "outputs": [],
   "source": [
    "# Put the name of the first pair-member doing the evaluation below\n",
    "# NAME: Oliver Hliddal\n",
    "\n",
    "#@georgemcintosh.com        \n",
    "#@gmail.com                 \n",
    "#@kitconcept.com            \n",
    "#@cpc.ait.kyushu-u.ac.jp    \n",
    "#@users.noreply.github.com  \n",
    "#@users.noreply.github.com  \"\n",
    "#@users.noreply.github.com  \"\n",
    "#@users.noreply.github.com  \"\n",
    "#@nuco.io                   \n",
    "#@gmail.com                 \"\n",
    "#@gmail.com                 \"\n",
    "#@naver.com                 \n",
    "#@icometrix.com             \n",
    "#@users.noreply.github.com  \"\n",
    "#@users.noreply.github.com  \"\n",
    "#@vpn-251-169.epfl.ch       \n",
    "#@gmail.com                 \"\n",
    "#@evalf.nl                  \n",
    "#@users.noreply.github.com  \"\n",
    "#@users.noreply.github.com  \"\n",
    "#@gmail.com                 \"\n",
    "#@ves.ac.in                 \n",
    "#@ndus.edu                  \n",
    "#@users.noreply.github.com  \"\n",
    "#@gmail.com                 \"\n",
    "\n",
    "#@users.noreply.github.com  \"\n",
    "#@gmail.com                 \"\n",
    "#@amazon.com                \n",
    "#@gmail.com                 \"\n",
    "#@users.noreply.github.com  \"\n",
    "#@enzy.org                  \n",
    "#@dg10a.com                 \n",
    "#@gmail.com                 \"\n",
    "#@users.noreply.github.com  \"\n",
    "#@gmail.com                 \"\n",
    "#@DESKTOP-F7F9K18           \n",
    "#@apple.com                 \n",
    "#@users.noreply.github.com  \"\n",
    "#@live.com                  \n",
    "#@yandex.ru                 \n",
    "#@users.noreply.github.com  \"\n",
    "#@hotmail.nl                \n",
    "#@gmail.com                 \"\n",
    "#@wq-dmy.cn                 \n",
    "#@users.noreply.github.com  \"\n",
    "#@hotmail.com               \n",
    "#@qq.com                    \n",
    "#@gmail.com                 \"\n",
    "#@braun-development.de      \n",
    "#@users.noreply.github.com  \"\n",
    "\n",
    "#@hotmail.fr                \n",
    "#@users.noreply.github.com  \"\n",
    "#@gmail.com                 \"\n",
    "#@ugent.be                  \n",
    "#@Israels-MacBook-Pro.local \n",
    "#@gmail.com                 \"\n",
    "#@gazi.edu.tr               \n",
    "#@gmail.com                 \"\n",
    "#@users.noreply.github.com  \"\n",
    "#@always-online.co.uk       \n",
    "#@mst.edu                   \n",
    "#@sensetime.com             \n",
    "#@163.com                   \n",
    "#@users.noreply.github.com  \"\n",
    "#@gamil.com                 \n",
    "#@163.com                   \"\n",
    "#@gmail.com                 \"\n",
    "#@gmail.com                 \"\n",
    "#@gmail.com                 \"\n",
    "#@gmail.com                 \"\n",
    "#@users.noreply.github.com  \"\n",
    "#@mail.ru                   \n",
    "#@gmail.com                 \"\n",
    "#@users.noreply.github.com  \"\n",
    "#@gmail.com                 \"\n",
    "\n",
    "#@qq.com                    \n",
    "#@gmail.com                 \"\n",
    "#@gmail.com                 \"\n",
    "#@uab.edu                   \n",
    "#@users.noreply.github.com  \"\n",
    "#@gmail.com                 \"\n",
    "#@gmail.com                 \"\n",
    "#@ymail.com                 \n",
    "#@gmail.com                 \"\n",
    "#@live.com                  \n",
    "#@users.noreply.github.com  \"\n",
    "#@brianshumate.com          \"\n",
    "#@163.com                   \"\n",
    "#@philipphauer.de           \n",
    "#@gmail.com                 \"\n",
    "#@users.noreply.github.com  \"\n",
    "#@gmail.com                 \"\n",
    "#@uw.edu                    \n",
    "#@gmail.com                 \"\n",
    "#@gmail.com                 \"\n",
    "#@gmail.com                 \"\n",
    "#@live.com                  \"\n",
    "#@users.noreply.github.com  \"\n",
    "#@gmail.com                 \"\n",
    "#@gmail.com                 \""
   ]
  },
  {
   "cell_type": "markdown",
   "metadata": {},
   "source": [
    "Next, compare your results. Did you agree on all the 100 entries? Were you able to label all email addresses?"
   ]
  },
  {
   "cell_type": "code",
   "execution_count": 7,
   "metadata": {},
   "outputs": [],
   "source": [
    "# Please write below your main conclusions"
   ]
  },
  {
   "cell_type": "markdown",
   "metadata": {},
   "source": [
    "**Exercise 1.3 (9 points)**\n",
    "\n",
    "Now, evaluate the coverage and the accuracy of your algorithm by comparing your labels with the algorithm's result. \n",
    " -  Based on the random sample, what % of the data can your algorithm classify? Can you add something to your code to increase it? If, yes, include below your updated code. How much did coverage increase?\n",
    " - Based on the classified items on your list, what % did your algorithm classify correctly?"
   ]
  },
  {
   "cell_type": "code",
   "execution_count": 6,
   "metadata": {},
   "outputs": [],
   "source": [
    "# Your improved code goes below\n",
    "three_digit_codes = {\".com\": \"Universal\", \".edu\": \"Educational\", \".org\": \"Organisational\", \".net\": \"Network\",\n",
    "                    \".gov\": \"Government\", \".one\": \"ICANN\", \".pro\": \"RegistryPro\"}\n",
    "\n",
    "def improvedAddressEvaluation(address):\n",
    "        '''Evaluating the location of an address'''\n",
    "        if (address[-4] == \".\"):\n",
    "                if (address[-4:] in three_digit_codes):\n",
    "                        return three_digit_codes.get(address[-4:])\n",
    "                else:\n",
    "                        print(\"Unable to evaluate this address.\")\n",
    "                        return 0\n",
    "        elif (address[-3] == \".\"):\n",
    "                if (address[-3:] in country_codes):\n",
    "                        return country_codes.get(address[-3:])\n",
    "                else:\n",
    "                        print(\"Unable to evaluate this address.\")\n",
    "                        return 0\n",
    "        else:\n",
    "                print(\"Unable to evaluate this address; Address seems invalid\")\n",
    "                return 0"
   ]
  },
  {
   "cell_type": "code",
   "execution_count": 7,
   "metadata": {},
   "outputs": [
    {
     "name": "stdout",
     "output_type": "stream",
     "text": [
      "Unable to evaluate this address; Address seems invalid\n",
      "Unable to evaluate this address; Address seems invalid\n",
      "100\n",
      "98\n",
      "Coverage of algortihm: 98.0%\n"
     ]
    }
   ],
   "source": [
    "# Your analysis of coverage increase goes below\n",
    "def analyze_coverage(addresses):\n",
    "    total_counter = 0\n",
    "    correct_counter = 0\n",
    "    for address in addresses:\n",
    "        if (improvedAddressEvaluation(address)):\n",
    "            correct_counter += 1\n",
    "        total_counter += 1\n",
    "    print(total_counter)\n",
    "    print(correct_counter)\n",
    "    return correct_counter/total_counter\n",
    "\n",
    "print(\"Coverage of algortihm: \" + str(analyze_coverage(selected_adr)*100) + \"%\")"
   ]
  },
  {
   "cell_type": "markdown",
   "metadata": {},
   "source": [
    "**Exercise 1.4 (3 points)**\n",
    "The country of residence is not the only characteristic of the user that can be inferred from their email address. Make a short list of other characteristics that you could infer from the data."
   ]
  },
  {
   "cell_type": "code",
   "execution_count": 10,
   "metadata": {},
   "outputs": [],
   "source": [
    "# Answer here\n",
    "# domain, company(e.g. apple.com), context (e.g. .edu), github (noreply.github.com) "
   ]
  },
  {
   "cell_type": "markdown",
   "metadata": {},
   "source": [
    "# Part 2: Rate limiting (15 points total)"
   ]
  },
  {
   "cell_type": "markdown",
   "metadata": {},
   "source": [
    "**Exercise 2.1 (2 points)**\n",
    "\n",
    "By now, you are familiar with a few APIs, namely Google Books and NYT. For both of them, find the rules about rate limits and summarise them below."
   ]
  },
  {
   "attachments": {},
   "cell_type": "markdown",
   "metadata": {},
   "source": [
    "Google Books: The standard rate limit is set to 1000 requests a day. \n",
    "    \n",
    "NYT: The NYT API sets two rate limits: 1. 4'000 requests a day and 2. 10 requests a minute\n"
   ]
  },
  {
   "cell_type": "markdown",
   "metadata": {},
   "source": [
    "**Exercise 2.2 (8 points)**\n",
    "\n",
    "Next, pick one of these two APIs and try to exceed the rate limit. What reaction do you get from the API? Comment your code to make your logic clear!"
   ]
  },
  {
   "cell_type": "code",
   "execution_count": 15,
   "metadata": {},
   "outputs": [
    {
     "name": "stdout",
     "output_type": "stream",
     "text": [
      "{\"fault\":{\"faultstring\":\"Rate limit quota violation. Quota limit  exceeded. Identifier : f8df9f2d-8949-485c-adc2-e7cc9efeedfa\",\"detail\":{\"errorcode\":\"policies.ratelimit.QuotaViolation\"}}}\n",
      "{\"fault\":{\"faultstring\":\"Rate limit quota violation. Quota limit  exceeded. Identifier : f8df9f2d-8949-485c-adc2-e7cc9efeedfa\",\"detail\":{\"errorcode\":\"policies.ratelimit.QuotaViolation\"}}}\n",
      "{\"fault\":{\"faultstring\":\"Rate limit quota violation. Quota limit  exceeded. Identifier : f8df9f2d-8949-485c-adc2-e7cc9efeedfa\",\"detail\":{\"errorcode\":\"policies.ratelimit.QuotaViolation\"}}}\n",
      "{\"fault\":{\"faultstring\":\"Rate limit quota violation. Quota limit  exceeded. Identifier : f8df9f2d-8949-485c-adc2-e7cc9efeedfa\",\"detail\":{\"errorcode\":\"policies.ratelimit.QuotaViolation\"}}}\n",
      "{\"fault\":{\"faultstring\":\"Rate limit quota violation. Quota limit  exceeded. Identifier : f8df9f2d-8949-485c-adc2-e7cc9efeedfa\",\"detail\":{\"errorcode\":\"policies.ratelimit.QuotaViolation\"}}}\n",
      "{\"fault\":{\"faultstring\":\"Rate limit quota violation. Quota limit  exceeded. Identifier : f8df9f2d-8949-485c-adc2-e7cc9efeedfa\",\"detail\":{\"errorcode\":\"policies.ratelimit.QuotaViolation\"}}}\n",
      "{\"fault\":{\"faultstring\":\"Rate limit quota violation. Quota limit  exceeded. Identifier : f8df9f2d-8949-485c-adc2-e7cc9efeedfa\",\"detail\":{\"errorcode\":\"policies.ratelimit.QuotaViolation\"}}}\n",
      "{\"fault\":{\"faultstring\":\"Rate limit quota violation. Quota limit  exceeded. Identifier : f8df9f2d-8949-485c-adc2-e7cc9efeedfa\",\"detail\":{\"errorcode\":\"policies.ratelimit.QuotaViolation\"}}}\n",
      "{\"fault\":{\"faultstring\":\"Rate limit quota violation. Quota limit  exceeded. Identifier : f8df9f2d-8949-485c-adc2-e7cc9efeedfa\",\"detail\":{\"errorcode\":\"policies.ratelimit.QuotaViolation\"}}}\n",
      "{\"fault\":{\"faultstring\":\"Rate limit quota violation. Quota limit  exceeded. Identifier : f8df9f2d-8949-485c-adc2-e7cc9efeedfa\",\"detail\":{\"errorcode\":\"policies.ratelimit.QuotaViolation\"}}}\n",
      "{\"fault\":{\"faultstring\":\"Rate limit quota violation. Quota limit  exceeded. Identifier : f8df9f2d-8949-485c-adc2-e7cc9efeedfa\",\"detail\":{\"errorcode\":\"policies.ratelimit.QuotaViolation\"}}}\n",
      "{\"status\":\"OK\",\"copyright\":\"Copyright (c) 2023 The New York Times Company. All Rights Reserved.\",\"response\":{\"docs\":[{\"abstract\":\"Nicola Sturgeon, a champion of Scottish independence, said she would r\n",
      "{\"status\":\"OK\",\"copyright\":\"Copyright (c) 2023 The New York Times Company. All Rights Reserved.\",\"response\":{\"docs\":[{\"abstract\":\"An ‘American Masters’ documentary follows Dr. Fauci, and Adam Sandler \n",
      "{\"status\":\"OK\",\"copyright\":\"Copyright (c) 2023 The New York Times Company. All Rights Reserved.\",\"response\":{\"docs\":[{\"abstract\":\"\",\"web_url\":\"https://www.nytimes.com/1980/11/30/archives/michael-powel\n",
      "{\"status\":\"OK\",\"copyright\":\"Copyright (c) 2023 The New York Times Company. All Rights Reserved.\",\"response\":{\"docs\":[{\"abstract\":\"  C ynics who despair of the MX debate's ever getting beyond hypothese\n",
      "{\"status\":\"OK\",\"copyright\":\"Copyright (c) 2023 The New York Times Company. All Rights Reserved.\",\"response\":{\"docs\":[{\"abstract\":\"Lynda Huey's company combines pool therapy and traditional land physic\n",
      "{\"status\":\"OK\",\"copyright\":\"Copyright (c) 2023 The New York Times Company. All Rights Reserved.\",\"response\":{\"docs\":[{\"abstract\":\"Even wealthier areas in the capital, Port-au-Prince, are no longer imm\n",
      "{\"status\":\"OK\",\"copyright\":\"Copyright (c) 2023 The New York Times Company. All Rights Reserved.\",\"response\":{\"docs\":[{\"abstract\":\"Explore tide pools along the Mendocino Coast, visit citrus groves and \n",
      "{\"status\":\"OK\",\"copyright\":\"Copyright (c) 2023 The New York Times Company. All Rights Reserved.\",\"response\":{\"docs\":[{\"abstract\":\"Answers to the pop quiz.\",\"web_url\":\"https://www.nytimes.com/2011/07/2\n",
      "{\"status\":\"OK\",\"copyright\":\"Copyright (c) 2023 The New York Times Company. All Rights Reserved.\",\"response\":{\"docs\":[{\"abstract\":\"GUEST--Lucy (CZ). Dear Mummy, I miss you so. The apple orchard is bust\n",
      "{\"status\":\"OK\",\"copyright\":\"Copyright (c) 2023 The New York Times Company. All Rights Reserved.\",\"response\":{\"docs\":[{\"abstract\":\"The science fiction writer Adrian Tchaikovsky explores what an explosi\n",
      "{\"fault\":{\"faultstring\":\"Rate limit quota violation. Quota limit  exceeded. Identifier : f8df9f2d-8949-485c-adc2-e7cc9efeedfa\",\"detail\":{\"errorcode\":\"policies.ratelimit.QuotaViolation\"}}}\n",
      "{\"fault\":{\"faultstring\":\"Rate limit quota violation. Quota limit  exceeded. Identifier : f8df9f2d-8949-485c-adc2-e7cc9efeedfa\",\"detail\":{\"errorcode\":\"policies.ratelimit.QuotaViolation\"}}}\n",
      "{\"fault\":{\"faultstring\":\"Rate limit quota violation. Quota limit  exceeded. Identifier : f8df9f2d-8949-485c-adc2-e7cc9efeedfa\",\"detail\":{\"errorcode\":\"policies.ratelimit.QuotaViolation\"}}}\n",
      "{\"fault\":{\"faultstring\":\"Rate limit quota violation. Quota limit  exceeded. Identifier : f8df9f2d-8949-485c-adc2-e7cc9efeedfa\",\"detail\":{\"errorcode\":\"policies.ratelimit.QuotaViolation\"}}}\n",
      "{\"fault\":{\"faultstring\":\"Rate limit quota violation. Quota limit  exceeded. Identifier : f8df9f2d-8949-485c-adc2-e7cc9efeedfa\",\"detail\":{\"errorcode\":\"policies.ratelimit.QuotaViolation\"}}}\n",
      "{\"fault\":{\"faultstring\":\"Rate limit quota violation. Quota limit  exceeded. Identifier : f8df9f2d-8949-485c-adc2-e7cc9efeedfa\",\"detail\":{\"errorcode\":\"policies.ratelimit.QuotaViolation\"}}}\n",
      "{\"fault\":{\"faultstring\":\"Rate limit quota violation. Quota limit  exceeded. Identifier : f8df9f2d-8949-485c-adc2-e7cc9efeedfa\",\"detail\":{\"errorcode\":\"policies.ratelimit.QuotaViolation\"}}}\n",
      "{\"fault\":{\"faultstring\":\"Rate limit quota violation. Quota limit  exceeded. Identifier : f8df9f2d-8949-485c-adc2-e7cc9efeedfa\",\"detail\":{\"errorcode\":\"policies.ratelimit.QuotaViolation\"}}}\n",
      "{\"fault\":{\"faultstring\":\"Rate limit quota violation. Quota limit  exceeded. Identifier : f8df9f2d-8949-485c-adc2-e7cc9efeedfa\",\"detail\":{\"errorcode\":\"policies.ratelimit.QuotaViolation\"}}}\n"
     ]
    }
   ],
   "source": [
    "## code to exceed rate limit -> NYT API 10 requests per minute\n",
    "import requests\n",
    "\n",
    "for key in country_codes:\n",
    "    print(requests.get(\"https://api.nytimes.com/svc/search/v2/articlesearch.json?q=\" + key + \"&api-key=dStQ04EXmMRGkeBAGsWjGACwZI4gLN1I\").text[:200])\n",
    "\n",
    "# The requested information was printed successfully 10 times (in some cases more). After that,\n",
    "# the following statement was printed:\n",
    "    # {\"fault\":{\"faultstring\":\"Rate limit quota violation. Quota limit  exceeded. Identifier : \n",
    "    #   f8df9f2d-8949-485c-adc2-e7cc9efeedfa\",\"detail\":{\"errorcode\":\"policies.ratelimit.QuotaViolation\"}}}\n",
    "\n",
    "#However, we do net get an error of any kind, we are just not getting the requested information."
   ]
  },
  {
   "cell_type": "markdown",
   "metadata": {},
   "source": [
    "**Exercise 2.3 (5 points)**\n",
    "\n",
    "In the next problem you will check how many requests you can send to Google Search before getting blocked. Websites protect themselves from automated crawling by checking requests that come from the same computer in a small time frame and after a while, they won't respond to the request. A valid response would be \"Response 200\", which you can see if you just print the response of `requests.get('https://www.google.com/search?q=zurich')`. \n",
    "\n",
    "Write code to find out how many requests does it take to get blocked (when you first get a response other than 200). In addition, write what is the number of a blocked response and what does it stand for (Google response XXX)?"
   ]
  },
  {
   "cell_type": "code",
   "execution_count": 16,
   "metadata": {},
   "outputs": [
    {
     "name": "stdout",
     "output_type": "stream",
     "text": [
      "Response code after failed request: 429\n",
      "Blocked after 0 requests.\n"
     ]
    }
   ],
   "source": [
    "import random\n",
    "import requests\n",
    "\n",
    "words = [\"Apple\", \"Banana\", \"Cherry\", \"Door\", \"Eat\", \"Fish\", \"Gold\", \"Honey\", \"India\", \"Jello\", \"Kite\", \"Light\", \n",
    "        \"Moon\", \"Night\", \"Opera\", \"Pokemon\", \"Quidditch\", \"Rain\", \"Salmon\", \"Tigerwoods\", \"UFO\", \"Vintage\",\n",
    "        \"Wood\", \"Xylophone\", \"Yak\", \"Zoo\"]\n",
    "\n",
    "example = requests.get('https://www.google.com/search?q=zurich')\n",
    "\n",
    "def checkLimit(response):\n",
    "    if response.status_code == 200:\n",
    "        return False\n",
    "    else:\n",
    "        print(\"Response code after failed request: \" + str(response.status_code))\n",
    "        return response.status_code\n",
    "\n",
    "def find_limit():\n",
    "    counter = 0\n",
    "    ex = requests.get('https://www.google.com/search?q=zurich')\n",
    "    while (checkLimit(ex) == False):\n",
    "        ex = requests.get(\"https://www.google.com/search?q=\" + words[random.randint(0, len(words)-1)])\n",
    "        counter += 1\n",
    "    print(\"Blocked after \" + str(counter) + \" requests.\")\n",
    "\n",
    "find_limit()\n",
    "\n"
   ]
  },
  {
   "cell_type": "code",
   "execution_count": null,
   "metadata": {},
   "outputs": [],
   "source": [
    "# The response code is 429 and it stands for too many requests.\n",
    "# Blocked after 588 requests. (took 4min31sec)"
   ]
  },
  {
   "cell_type": "markdown",
   "metadata": {},
   "source": [
    "# Part 3: Selenium (55 points total)"
   ]
  },
  {
   "cell_type": "markdown",
   "metadata": {},
   "source": [
    "## Before you start: Selenium Download\n",
    "For the next exercises you will have to use Selenium. \n",
    "\n",
    "You can read more about the webdriver here (https://chromedriver.chromium.org), but if you want to go straight to the download, go to https://chromedriver.storage.googleapis.com/index.html?path=111.0.5563.64/ and download your version. \n",
    "\n",
    "The steps to get Selenium to work are:\n",
    "1. download webdriver\n",
    "2. extract\n",
    "3. Add to Path\n",
    "4. install selenium from terminal (e.g. `pip install selenium`)\n",
    "\n",
    "Once this is done, you should be able to run:\n",
    "- `from selenium import webdriver`\n",
    "- `browser = webdriver.Chrome([the path where you put the googlechromedriver])`\n",
    "\n",
    "In case of any issues, the https://chromedriver.chromium.org website has some straightforward info on common bugs. "
   ]
  },
  {
   "cell_type": "markdown",
   "metadata": {},
   "source": [
    "## Selenium Sessions\n",
    "\n",
    "**Exercise 3.1 (25 points)**"
   ]
  },
  {
   "cell_type": "markdown",
   "metadata": {},
   "source": [
    "Go to a website of your choice where you have an account. It can for example be the New York Times APi website where you created a login last time but also tutti.ch, comparis, whatever simple website you often use.\n",
    "\n",
    "Using Selenium create a session where you \n",
    "1. go to the main website \n",
    "2. log in \n",
    "3. click on an element of your choice \n",
    "4. scroll to the bottom of the page\n",
    "5. then save the page. \n",
    "\n",
    "When logging in, you will have to find the name of the login form and submit your credentials to it and then click the login button. Here you find an example for a login using selenium but in case you decide to use this help, Facebook should not be your chosen website. https://crossbrowsertesting.com/blog/test-automation/automate-login-with-selenium/\n",
    " \n",
    "Tip: Website uses captcha? You can put your script to sleep for some number of seconds by using time.sleep() function and enter captcha manually."
   ]
  },
  {
   "cell_type": "code",
   "execution_count": 25,
   "metadata": {},
   "outputs": [],
   "source": [
    "## your code here\n",
    "\n",
    "from selenium.webdriver.chrome.service import Service\n",
    "from selenium.webdriver import Chrome\n",
    "\n",
    "service = Service('/path/to/chromedriver')\n",
    "driver = Chrome(service=service)\n",
    "driver.get('https://www.mytennis.ch/')\n",
    "\n",
    "# I did steps 1-4, how should i save the page? write code to do it or do it manually, if 2., why?\n",
    "# instructions not clear, head got stuck in fridge, plis help\n"
   ]
  },
  {
   "cell_type": "markdown",
   "metadata": {},
   "source": [
    "## Measuring personalization\n",
    "\n",
    "**Exercise 3.2 (30 points)**"
   ]
  },
  {
   "cell_type": "markdown",
   "metadata": {},
   "source": [
    "In this exercise you will have to imitate the study described in class on a website of your interest. You will have to measure differences in the content that you receive back from the website under varying treatments. \n",
    "\n",
    "You will have to choose a website and a treatment. Use selenium for this exercise as well. \n",
    "- As for websites, you can pick an online store, or traveling site, some news site, Google News.. basically try to pick something that you suspect gives different results for different searchers. \n",
    "- Examples for treatments would be location, being logged in with an account, history with the website, being on a phone vs a desktop, etc. \n",
    "- You can try to pick multiple searches to make sure you are measuring real phenomenon, not only noise\n",
    "- You can include a control treatment in case you suspect there's A/B testing or noise in how the pages look\n",
    "- Finally you have to pick a measure for the differences on the page. In case you receive items on a page, for example URLs or products, you can define an overlap metric. In case the page is more unstructured, come up with an explanation for how you define differences.\n",
    "\n",
    "As your answer, explain which of the above you chose, how you implemented the experiment, and what difference you found in the pages you collected. \n",
    "\n",
    "You can find more info on how to run multiple browsers at the same time here: https://crossbrowsertesting.com/blog/selenium/run-test-multiple-browsers-parallel-selenium/"
   ]
  },
  {
   "cell_type": "code",
   "execution_count": null,
   "metadata": {},
   "outputs": [],
   "source": [
    "## your code here"
   ]
  },
  {
   "cell_type": "code",
   "execution_count": null,
   "metadata": {},
   "outputs": [],
   "source": [
    "#Your answer here"
   ]
  }
 ],
 "metadata": {
  "kernelspec": {
   "display_name": "Python 3 (ipykernel)",
   "language": "python",
   "name": "python3"
  },
  "language_info": {
   "codemirror_mode": {
    "name": "ipython",
    "version": 3
   },
   "file_extension": ".py",
   "mimetype": "text/x-python",
   "name": "python",
   "nbconvert_exporter": "python",
   "pygments_lexer": "ipython3",
   "version": "3.11.2"
  }
 },
 "nbformat": 4,
 "nbformat_minor": 4
}
